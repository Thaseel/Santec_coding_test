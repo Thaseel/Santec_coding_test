{
 "cells": [
  {
   "cell_type": "code",
   "execution_count": 57,
   "id": "fa906d30-4707-4ef8-ab2c-307d24984719",
   "metadata": {},
   "outputs": [
    {
     "name": "stdout",
     "output_type": "stream",
     "text": [
      "0.8893012765514168 2.0516196624920564\n",
      "2.421390162789373 3.337194881865135\n",
      "-0.2274209890906269 2.345328216593966\n"
     ]
    }
   ],
   "source": [
    "import numpy as np\n",
    "def coordinates(arr,theta):\n",
    "    cos_theta = np.cos((np.pi/180)*theta)\n",
    "    sin_theta = np.sin((np.pi/180)*theta)\n",
    "    for i in range(len(arr)):\n",
    "        X_new = (arr[i][0] * cos_theta) - (arr[i][1] * sin_theta)\n",
    "        Y_new = (arr[i][1] * cos_theta) + (arr[i][0] * sin_theta)\n",
    "        print(X_new, end=\" \")\n",
    "        print(Y_new)\n",
    "    return\n",
    "x_c = 4/3\n",
    "y_c = (2 * np.sqrt(2) + 3) / 3\n",
    "arr = np.array([[2,1],[4,1],[x_c,y_c]])\n",
    "theta = 40\n",
    "coordinates(arr,theta)"
   ]
  }
 ],
 "metadata": {
  "kernelspec": {
   "display_name": "Python 3",
   "language": "python",
   "name": "python3"
  },
  "language_info": {
   "codemirror_mode": {
    "name": "ipython",
    "version": 3
   },
   "file_extension": ".py",
   "mimetype": "text/x-python",
   "name": "python",
   "nbconvert_exporter": "python",
   "pygments_lexer": "ipython3",
   "version": "3.8.8"
  }
 },
 "nbformat": 4,
 "nbformat_minor": 5
}
